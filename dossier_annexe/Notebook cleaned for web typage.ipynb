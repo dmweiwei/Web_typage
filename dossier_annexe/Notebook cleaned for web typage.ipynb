{
 "cells": [
  {
   "cell_type": "code",
   "execution_count": 48,
   "metadata": {
    "ExecuteTime": {
     "end_time": "2020-12-09T10:18:47.711026Z",
     "start_time": "2020-12-09T10:18:47.698012Z"
    }
   },
   "outputs": [],
   "source": [
    "import os\n",
    "import numpy as np\n",
    "import pandas as pd"
   ]
  },
  {
   "cell_type": "code",
   "execution_count": 49,
   "metadata": {
    "ExecuteTime": {
     "end_time": "2020-12-09T10:22:28.775141Z",
     "start_time": "2020-12-09T10:21:46.191480Z"
    },
    "scrolled": true
   },
   "outputs": [
    {
     "name": "stdout",
     "output_type": "stream",
     "text": [
      "Collecting package metadata (current_repodata.json): ...working... done\n",
      "Note: you may need to restart the kernel to use updated packages.\n",
      "\n",
      "Solving environment: ...working... \n",
      "\n",
      "Updating scikit-learn is constricted by \n",
      "\n",
      "anaconda -> requires scikit-learn==0.21.3=py37h6288b17_0\n",
      "\n",
      "If you are sure you want an update of your package either try `conda update --all` or install a specific version of the package you want using `conda install <pkg>=<version>`\n",
      "\n",
      "done\n",
      "\n",
      "## Package Plan ##\n",
      "\n",
      "  environment location: C:\\Users\\utilisateur\\Anaconda3\n",
      "\n",
      "  added / updated specs:\n",
      "    - scikit-learn\n",
      "\n",
      "\n",
      "The following packages will be downloaded:\n",
      "\n",
      "    package                    |            build\n",
      "    ---------------------------|-----------------\n",
      "    backports.functools_lru_cache-1.6.1|     pyhd3eb1b0_0          12 KB\n",
      "    conda-4.9.2                |   py37haa95532_0         2.9 MB\n",
      "    conda-package-handling-1.7.2|   py37h76e460a_0         724 KB\n",
      "    future-0.18.2              |           py37_1         646 KB\n",
      "    ------------------------------------------------------------\n",
      "                                           Total:         4.2 MB\n",
      "\n",
      "The following packages will be UPDATED:\n",
      "\n",
      "  backports.functoo~                               1.5-py_2 --> 1.6.1-pyhd3eb1b0_0\n",
      "  conda                                        4.8.3-py37_0 --> 4.9.2-py37haa95532_0\n",
      "  conda-package-han~                   1.6.0-py37h62dcd97_0 --> 1.7.2-py37h76e460a_0\n",
      "  future                                      0.17.1-py37_0 --> 0.18.2-py37_1\n",
      "\n",
      "\n",
      "\n",
      "Downloading and Extracting Packages\n",
      "\n",
      "future-0.18.2        | 646 KB    |            |   0% \n",
      "future-0.18.2        | 646 KB    | 2          |   2% \n",
      "future-0.18.2        | 646 KB    | ########## | 100% \n",
      "\n",
      "backports.functools_ | 12 KB     |            |   0% \n",
      "backports.functools_ | 12 KB     | ########## | 100% \n",
      "\n",
      "conda-4.9.2          | 2.9 MB    |            |   0% \n",
      "conda-4.9.2          | 2.9 MB    | ########8  |  89% \n",
      "conda-4.9.2          | 2.9 MB    | ########## | 100% \n",
      "\n",
      "conda-package-handli | 724 KB    |            |   0% \n",
      "conda-package-handli | 724 KB    | ########## | 100% \n",
      "Preparing transaction: ...working... done\n",
      "Verifying transaction: ...working... done\n",
      "Executing transaction: ...working... done\n"
     ]
    }
   ],
   "source": [
    "conda update scikit-learn"
   ]
  },
  {
   "cell_type": "code",
   "execution_count": 52,
   "metadata": {
    "ExecuteTime": {
     "end_time": "2020-12-09T10:23:23.746153Z",
     "start_time": "2020-12-09T10:23:23.736156Z"
    }
   },
   "outputs": [
    {
     "name": "stdout",
     "output_type": "stream",
     "text": [
      "The scikit-learn version is 0.22.1.\n"
     ]
    }
   ],
   "source": [
    "import sklearn\n",
    "print('The scikit-learn version is {}.'.format(sklearn.__version__))"
   ]
  },
  {
   "cell_type": "markdown",
   "metadata": {},
   "source": [
    "# 1. Charger le dataset avec les fichier CSV"
   ]
  },
  {
   "cell_type": "code",
   "execution_count": 53,
   "metadata": {
    "ExecuteTime": {
     "end_time": "2020-12-09T10:28:14.105152Z",
     "start_time": "2020-12-09T10:28:12.064397Z"
    },
    "scrolled": true
   },
   "outputs": [],
   "source": [
    "# télécharger\n",
    "df_train = pd.read_csv(\"Data/df_train.csv\")\n",
    "df_test = pd.read_csv(\"Data/df_test.csv\")\n",
    "\n",
    "df_train.dropna(inplace=True)\n",
    "df_test.dropna(inplace=True)"
   ]
  },
  {
   "cell_type": "code",
   "execution_count": 5,
   "metadata": {
    "ExecuteTime": {
     "end_time": "2020-12-09T08:41:49.710356Z",
     "start_time": "2020-12-09T08:41:49.691366Z"
    }
   },
   "outputs": [
    {
     "name": "stdout",
     "output_type": "stream",
     "text": [
      "(16737, 6) (4201, 6)\n"
     ]
    }
   ],
   "source": [
    "print(df_train.shape, df_test.shape)"
   ]
  },
  {
   "cell_type": "markdown",
   "metadata": {},
   "source": [
    "# 2. prepocessing"
   ]
  },
  {
   "cell_type": "code",
   "execution_count": 35,
   "metadata": {
    "ExecuteTime": {
     "end_time": "2020-12-09T09:53:59.704887Z",
     "start_time": "2020-12-09T09:53:59.679901Z"
    }
   },
   "outputs": [],
   "source": [
    "from nltk.tokenize import RegexpTokenizer\n",
    "from nltk.stem.snowball import FrenchStemmer\n",
    "from nltk.corpus import stopwords\n",
    "\n",
    "def process(input_text):\n",
    "    # Create a regular expression tokenizer\n",
    "    tokenizer = RegexpTokenizer(r'\\w+')\n",
    "\n",
    "    # Get the list of stop words \n",
    "    stop_words = stopwords.words('french')\n",
    "    \n",
    "    # Tokenize the input string\n",
    "    tokens = tokenizer.tokenize(input_text.lower())\n",
    "\n",
    "    # Remove the stop words \n",
    "    tokens = [x for x in tokens if not x in stop_words]\n",
    "    \n",
    "    # Create a Snowball stemmer \n",
    "    stemmer = FrenchStemmer()\n",
    "\n",
    "    # Perform stemming on the tokenized words \n",
    "    tokens_stemmed = [stemmer.stem(x) for x in tokens]\n",
    "\n",
    "    return \" \".join(tokens_stemmed)"
   ]
  },
  {
   "cell_type": "code",
   "execution_count": 13,
   "metadata": {
    "ExecuteTime": {
     "end_time": "2020-10-05T09:55:45.438079Z",
     "start_time": "2020-10-05T09:54:41.720708Z"
    }
   },
   "outputs": [
    {
     "name": "stderr",
     "output_type": "stream",
     "text": [
      "C:\\Users\\m.deng\\Anaconda3\\lib\\site-packages\\ipykernel_launcher.py:1: UserWarning: Pandas doesn't allow columns to be created via a new attribute name - see https://pandas.pydata.org/pandas-docs/stable/indexing.html#attribute-access\n",
      "  \"\"\"Entry point for launching an IPython kernel.\n"
     ]
    }
   ],
   "source": [
    "df_train.Contenu_stemmed = df_train.Contenu_du_fichier_txt.apply(process)"
   ]
  },
  {
   "cell_type": "code",
   "execution_count": 14,
   "metadata": {
    "ExecuteTime": {
     "end_time": "2020-10-05T09:56:05.173503Z",
     "start_time": "2020-10-05T09:55:48.762177Z"
    }
   },
   "outputs": [
    {
     "name": "stderr",
     "output_type": "stream",
     "text": [
      "C:\\Users\\m.deng\\Anaconda3\\lib\\site-packages\\ipykernel_launcher.py:1: UserWarning: Pandas doesn't allow columns to be created via a new attribute name - see https://pandas.pydata.org/pandas-docs/stable/indexing.html#attribute-access\n",
      "  \"\"\"Entry point for launching an IPython kernel.\n"
     ]
    }
   ],
   "source": [
    "df_test.Contenu_stemmed = df_test.Contenu_du_fichier_txt.apply(process)"
   ]
  },
  {
   "cell_type": "markdown",
   "metadata": {},
   "source": [
    "## 2 bis Supprimer les mots qui ont moins de 3 lettres"
   ]
  },
  {
   "cell_type": "code",
   "execution_count": null,
   "metadata": {},
   "outputs": [],
   "source": [
    "import re\n",
    "def delete_less_than_3_letters(contenu):\n",
    "    return re.sub(r'\\b\\w{1,3}\\b', '', contenu)"
   ]
  },
  {
   "cell_type": "code",
   "execution_count": null,
   "metadata": {},
   "outputs": [],
   "source": [
    "df_train[\"Contenu_more_than_3_letters\"] = df_train.Contenu_stemmed.apply(delete_less_than_3_letters)\n",
    "df_test[\"Contenu_more_than_3_letters\"] = df_test.Contenu_stemmed.apply(delete_less_than_3_letters)"
   ]
  },
  {
   "cell_type": "markdown",
   "metadata": {},
   "source": [
    "# 3. Feature engeneering"
   ]
  },
  {
   "cell_type": "code",
   "execution_count": 54,
   "metadata": {
    "ExecuteTime": {
     "end_time": "2020-12-09T10:28:19.022250Z",
     "start_time": "2020-12-09T10:28:19.008238Z"
    }
   },
   "outputs": [],
   "source": [
    "from sklearn.feature_extraction.text import TfidfVectorizer\n",
    "from scipy import sparse\n",
    "from sklearn.metrics import classification_report\n",
    "import joblib"
   ]
  },
  {
   "cell_type": "code",
   "execution_count": 55,
   "metadata": {
    "ExecuteTime": {
     "end_time": "2020-12-09T10:28:19.475187Z",
     "start_time": "2020-12-09T10:28:19.464216Z"
    }
   },
   "outputs": [],
   "source": [
    "tfidf_word = TfidfVectorizer(max_features=1000)\n",
    "# tfidf_char = TfidfVectorizer(analyzer='char', ngram_range=(2, 3), lowercase=False, max_features=1000)"
   ]
  },
  {
   "cell_type": "code",
   "execution_count": 56,
   "metadata": {
    "ExecuteTime": {
     "end_time": "2020-12-09T10:28:26.435642Z",
     "start_time": "2020-12-09T10:28:20.047352Z"
    }
   },
   "outputs": [],
   "source": [
    "X_tfidf_word_train = tfidf_word.fit_transform(df_train.Contenu_more_than_3_letters)\n",
    "# X_tfidf_char_train_complet = tfidf_char_train_complet.fit_transform(df_train.Contenu_du_fichier_txt)\n",
    "                                     \n",
    "# X_tfidf_train_complet = sparse.hstack([X_tfidf_word_train_complet, X_tfidf_char_train_complet])"
   ]
  },
  {
   "cell_type": "code",
   "execution_count": 40,
   "metadata": {
    "ExecuteTime": {
     "end_time": "2020-12-09T09:56:04.751129Z",
     "start_time": "2020-12-09T09:56:04.738112Z"
    }
   },
   "outputs": [
    {
     "data": {
      "text/plain": [
       "(16737, 1000)"
      ]
     },
     "execution_count": 40,
     "metadata": {},
     "output_type": "execute_result"
    }
   ],
   "source": [
    "X_tfidf_word_train.shape"
   ]
  },
  {
   "cell_type": "code",
   "execution_count": 10,
   "metadata": {
    "ExecuteTime": {
     "end_time": "2020-12-09T08:44:04.294537Z",
     "start_time": "2020-12-09T08:44:03.138678Z"
    }
   },
   "outputs": [],
   "source": [
    "X_tfidf_word_test = tfidf_word.transform(df_test.Contenu_more_than_3_letters)\n",
    "# X_tfidf_char_test_complet = tfidf_char_train_complet.transform(df_test.Contenu_du_fichier_txt)\n",
    "# X_tfidf_test_complet = sparse.hstack([X_tfidf_word_test_complet, X_tfidf_char_test_complet])"
   ]
  },
  {
   "cell_type": "code",
   "execution_count": 57,
   "metadata": {
    "ExecuteTime": {
     "end_time": "2020-12-09T10:28:30.232626Z",
     "start_time": "2020-12-09T10:28:27.503215Z"
    }
   },
   "outputs": [
    {
     "data": {
      "text/plain": [
       "['tfidf_word.sav']"
      ]
     },
     "execution_count": 57,
     "metadata": {},
     "output_type": "execute_result"
    }
   ],
   "source": [
    "# enregistrer le modèle tf-idf vectorizer\n",
    "joblib.dump(tfidf_word,\"tfidf_word.sav\")"
   ]
  },
  {
   "cell_type": "code",
   "execution_count": null,
   "metadata": {},
   "outputs": [],
   "source": [
    "# télécharger le modèle tf-idf vectorizer\n",
    "# tfidf_word=joblib.load(\"tfidf_word.sav\")"
   ]
  },
  {
   "cell_type": "markdown",
   "metadata": {},
   "source": [
    "## 3 bis Sauvegarder les données transformées par TFIDF ngram=(1,3)"
   ]
  },
  {
   "cell_type": "code",
   "execution_count": null,
   "metadata": {},
   "outputs": [],
   "source": [
    "# sauvegarder\n",
    "sparse.save_npz(\"X_tfidf_train_complet.npz\", X_tfidf_train_complet)\n",
    "sparse.save_npz(\"X_tfidf_test_complet.npz\", X_tfidf_test_complet)"
   ]
  },
  {
   "cell_type": "code",
   "execution_count": null,
   "metadata": {},
   "outputs": [],
   "source": [
    "# télécharger\n",
    "X_tfidf_train_complet = sparse.load_npz(\"X_tfidf_train_complet.npz\")\n",
    "X_tfidf_test_complet = sparse.load_npz(\"X_tfidf_test_complet.npz\")"
   ]
  },
  {
   "cell_type": "markdown",
   "metadata": {},
   "source": [
    "# 4. Entraîner le modèle"
   ]
  },
  {
   "cell_type": "code",
   "execution_count": 13,
   "metadata": {
    "ExecuteTime": {
     "end_time": "2020-12-09T08:51:51.946292Z",
     "start_time": "2020-12-09T08:51:51.769790Z"
    }
   },
   "outputs": [],
   "source": [
    "from sklearn.svm import SVC"
   ]
  },
  {
   "cell_type": "code",
   "execution_count": 67,
   "metadata": {
    "ExecuteTime": {
     "end_time": "2020-12-09T13:34:29.684009Z",
     "start_time": "2020-12-09T13:34:29.665040Z"
    }
   },
   "outputs": [],
   "source": [
    "svc = SVC(probability=True)"
   ]
  },
  {
   "cell_type": "code",
   "execution_count": 68,
   "metadata": {
    "ExecuteTime": {
     "end_time": "2020-12-09T13:50:00.630542Z",
     "start_time": "2020-12-09T13:34:32.946030Z"
    }
   },
   "outputs": [
    {
     "data": {
      "text/plain": [
       "SVC(C=1.0, break_ties=False, cache_size=200, class_weight=None, coef0=0.0,\n",
       "    decision_function_shape='ovr', degree=3, gamma='scale', kernel='rbf',\n",
       "    max_iter=-1, probability=True, random_state=None, shrinking=True, tol=0.001,\n",
       "    verbose=False)"
      ]
     },
     "execution_count": 68,
     "metadata": {},
     "output_type": "execute_result"
    }
   ],
   "source": [
    "svc.fit(X_tfidf_word_train, df_train.target)"
   ]
  },
  {
   "cell_type": "code",
   "execution_count": 69,
   "metadata": {
    "ExecuteTime": {
     "end_time": "2020-12-09T13:50:00.691512Z",
     "start_time": "2020-12-09T13:50:00.635547Z"
    }
   },
   "outputs": [
    {
     "data": {
      "text/plain": [
       "['svc_for_web_typage.sav']"
      ]
     },
     "execution_count": 69,
     "metadata": {},
     "output_type": "execute_result"
    }
   ],
   "source": [
    "# Enregistrer le modèle de classification\n",
    "joblib.dump(svc,\"svc_for_web_typage.sav\")"
   ]
  },
  {
   "cell_type": "markdown",
   "metadata": {},
   "source": [
    "# 5. Evaluer le modèle"
   ]
  },
  {
   "cell_type": "code",
   "execution_count": 21,
   "metadata": {
    "ExecuteTime": {
     "end_time": "2020-12-09T09:03:31.371162Z",
     "start_time": "2020-12-09T09:03:31.358186Z"
    }
   },
   "outputs": [],
   "source": [
    "# fonction pour la mise en forme de reporting\n",
    "def report_mise_en_forme(df):\n",
    "    df[[\"precision\", \"recall\", \"f1-score\"]] = df[[\"precision\", \"recall\", \"f1-score\"]].round(2)\n",
    "    df.support = df.support.astype(int)\n",
    "    return df"
   ]
  },
  {
   "cell_type": "code",
   "execution_count": 22,
   "metadata": {
    "ExecuteTime": {
     "end_time": "2020-12-09T09:04:19.584418Z",
     "start_time": "2020-12-09T09:03:31.727399Z"
    },
    "scrolled": true
   },
   "outputs": [
    {
     "name": "stderr",
     "output_type": "stream",
     "text": [
      "C:\\Users\\utilisateur\\Anaconda3\\lib\\site-packages\\sklearn\\metrics\\_classification.py:1272: UndefinedMetricWarning: Precision and F-score are ill-defined and being set to 0.0 in labels with no predicted samples. Use `zero_division` parameter to control this behavior.\n",
      "  _warn_prf(average, modifier, msg_start, len(result))\n"
     ]
    },
    {
     "data": {
      "text/html": [
       "<div>\n",
       "<style scoped>\n",
       "    .dataframe tbody tr th:only-of-type {\n",
       "        vertical-align: middle;\n",
       "    }\n",
       "\n",
       "    .dataframe tbody tr th {\n",
       "        vertical-align: top;\n",
       "    }\n",
       "\n",
       "    .dataframe thead th {\n",
       "        text-align: right;\n",
       "    }\n",
       "</style>\n",
       "<table border=\"1\" class=\"dataframe\">\n",
       "  <thead>\n",
       "    <tr style=\"text-align: right;\">\n",
       "      <th></th>\n",
       "      <th>precision</th>\n",
       "      <th>recall</th>\n",
       "      <th>f1-score</th>\n",
       "      <th>support</th>\n",
       "    </tr>\n",
       "  </thead>\n",
       "  <tbody>\n",
       "    <tr>\n",
       "      <td>ACTE DECES</td>\n",
       "      <td>0.99</td>\n",
       "      <td>1.00</td>\n",
       "      <td>0.99</td>\n",
       "      <td>202</td>\n",
       "    </tr>\n",
       "    <tr>\n",
       "      <td>ACTE DECES SUITE</td>\n",
       "      <td>1.00</td>\n",
       "      <td>0.60</td>\n",
       "      <td>0.75</td>\n",
       "      <td>5</td>\n",
       "    </tr>\n",
       "    <tr>\n",
       "      <td>ACTE NAISSANCE</td>\n",
       "      <td>0.88</td>\n",
       "      <td>0.35</td>\n",
       "      <td>0.50</td>\n",
       "      <td>20</td>\n",
       "    </tr>\n",
       "    <tr>\n",
       "      <td>ACTE NAISSANCE SUITE</td>\n",
       "      <td>0.00</td>\n",
       "      <td>0.00</td>\n",
       "      <td>0.00</td>\n",
       "      <td>2</td>\n",
       "    </tr>\n",
       "    <tr>\n",
       "      <td>ACTE NOTORIETE</td>\n",
       "      <td>0.96</td>\n",
       "      <td>0.89</td>\n",
       "      <td>0.92</td>\n",
       "      <td>53</td>\n",
       "    </tr>\n",
       "    <tr>\n",
       "      <td>ACTE NOTORIETE SUITE</td>\n",
       "      <td>0.86</td>\n",
       "      <td>0.91</td>\n",
       "      <td>0.89</td>\n",
       "      <td>386</td>\n",
       "    </tr>\n",
       "    <tr>\n",
       "      <td>AR HERITIERS</td>\n",
       "      <td>0.95</td>\n",
       "      <td>1.00</td>\n",
       "      <td>0.98</td>\n",
       "      <td>21</td>\n",
       "    </tr>\n",
       "    <tr>\n",
       "      <td>AR HERITIERS SUITE</td>\n",
       "      <td>0.95</td>\n",
       "      <td>0.90</td>\n",
       "      <td>0.93</td>\n",
       "      <td>21</td>\n",
       "    </tr>\n",
       "    <tr>\n",
       "      <td>ATTES HONNEUR</td>\n",
       "      <td>1.00</td>\n",
       "      <td>1.00</td>\n",
       "      <td>1.00</td>\n",
       "      <td>68</td>\n",
       "    </tr>\n",
       "    <tr>\n",
       "      <td>ATTES HONNEUR SUITE</td>\n",
       "      <td>1.00</td>\n",
       "      <td>1.00</td>\n",
       "      <td>1.00</td>\n",
       "      <td>24</td>\n",
       "    </tr>\n",
       "    <tr>\n",
       "      <td>AUTO PAIEMENT</td>\n",
       "      <td>0.80</td>\n",
       "      <td>1.00</td>\n",
       "      <td>0.89</td>\n",
       "      <td>4</td>\n",
       "    </tr>\n",
       "    <tr>\n",
       "      <td>AVIS</td>\n",
       "      <td>1.00</td>\n",
       "      <td>0.75</td>\n",
       "      <td>0.86</td>\n",
       "      <td>4</td>\n",
       "    </tr>\n",
       "    <tr>\n",
       "      <td>AVIS SUITE</td>\n",
       "      <td>1.00</td>\n",
       "      <td>0.86</td>\n",
       "      <td>0.92</td>\n",
       "      <td>7</td>\n",
       "    </tr>\n",
       "    <tr>\n",
       "      <td>CERFA 2705</td>\n",
       "      <td>1.00</td>\n",
       "      <td>0.90</td>\n",
       "      <td>0.95</td>\n",
       "      <td>115</td>\n",
       "    </tr>\n",
       "    <tr>\n",
       "      <td>CERFA 2705 SUITE</td>\n",
       "      <td>0.88</td>\n",
       "      <td>1.00</td>\n",
       "      <td>0.94</td>\n",
       "      <td>151</td>\n",
       "    </tr>\n",
       "    <tr>\n",
       "      <td>CERFA 2738</td>\n",
       "      <td>1.00</td>\n",
       "      <td>1.00</td>\n",
       "      <td>1.00</td>\n",
       "      <td>67</td>\n",
       "    </tr>\n",
       "    <tr>\n",
       "      <td>CERFA 2738 SUITE</td>\n",
       "      <td>1.00</td>\n",
       "      <td>0.82</td>\n",
       "      <td>0.90</td>\n",
       "      <td>17</td>\n",
       "    </tr>\n",
       "    <tr>\n",
       "      <td>CERTIF HEREDITE</td>\n",
       "      <td>0.86</td>\n",
       "      <td>0.60</td>\n",
       "      <td>0.71</td>\n",
       "      <td>10</td>\n",
       "    </tr>\n",
       "    <tr>\n",
       "      <td>CERTIF HEREDITE SUITE</td>\n",
       "      <td>1.00</td>\n",
       "      <td>0.50</td>\n",
       "      <td>0.67</td>\n",
       "      <td>14</td>\n",
       "    </tr>\n",
       "    <tr>\n",
       "      <td>CNI</td>\n",
       "      <td>0.40</td>\n",
       "      <td>0.81</td>\n",
       "      <td>0.54</td>\n",
       "      <td>131</td>\n",
       "    </tr>\n",
       "    <tr>\n",
       "      <td>CNI SUITE</td>\n",
       "      <td>0.43</td>\n",
       "      <td>0.06</td>\n",
       "      <td>0.11</td>\n",
       "      <td>47</td>\n",
       "    </tr>\n",
       "    <tr>\n",
       "      <td>DELIBERA SOCIETE</td>\n",
       "      <td>0.00</td>\n",
       "      <td>0.00</td>\n",
       "      <td>0.00</td>\n",
       "      <td>1</td>\n",
       "    </tr>\n",
       "    <tr>\n",
       "      <td>DELIBERA SOCIETE SUITE</td>\n",
       "      <td>0.00</td>\n",
       "      <td>0.00</td>\n",
       "      <td>0.00</td>\n",
       "      <td>3</td>\n",
       "    </tr>\n",
       "    <tr>\n",
       "      <td>DEM PRESTA</td>\n",
       "      <td>1.00</td>\n",
       "      <td>1.00</td>\n",
       "      <td>1.00</td>\n",
       "      <td>208</td>\n",
       "    </tr>\n",
       "    <tr>\n",
       "      <td>DEM PRESTA SUITE</td>\n",
       "      <td>0.00</td>\n",
       "      <td>0.00</td>\n",
       "      <td>0.00</td>\n",
       "      <td>5</td>\n",
       "    </tr>\n",
       "    <tr>\n",
       "      <td>DEMANDE RENTE</td>\n",
       "      <td>1.00</td>\n",
       "      <td>1.00</td>\n",
       "      <td>1.00</td>\n",
       "      <td>2</td>\n",
       "    </tr>\n",
       "    <tr>\n",
       "      <td>DEMANDE RENTE SUITE</td>\n",
       "      <td>1.00</td>\n",
       "      <td>0.50</td>\n",
       "      <td>0.67</td>\n",
       "      <td>2</td>\n",
       "    </tr>\n",
       "    <tr>\n",
       "      <td>DESIGN NOTAIRE</td>\n",
       "      <td>0.94</td>\n",
       "      <td>0.89</td>\n",
       "      <td>0.92</td>\n",
       "      <td>151</td>\n",
       "    </tr>\n",
       "    <tr>\n",
       "      <td>DESIGN NOTAIRE SUITE</td>\n",
       "      <td>0.92</td>\n",
       "      <td>0.86</td>\n",
       "      <td>0.89</td>\n",
       "      <td>177</td>\n",
       "    </tr>\n",
       "    <tr>\n",
       "      <td>DEVOLUTION SUCC</td>\n",
       "      <td>0.92</td>\n",
       "      <td>0.95</td>\n",
       "      <td>0.93</td>\n",
       "      <td>91</td>\n",
       "    </tr>\n",
       "    <tr>\n",
       "      <td>DEVOLUTION SUCC SUITE</td>\n",
       "      <td>0.80</td>\n",
       "      <td>0.80</td>\n",
       "      <td>0.80</td>\n",
       "      <td>140</td>\n",
       "    </tr>\n",
       "    <tr>\n",
       "      <td>DIVERS</td>\n",
       "      <td>0.69</td>\n",
       "      <td>0.83</td>\n",
       "      <td>0.75</td>\n",
       "      <td>637</td>\n",
       "    </tr>\n",
       "    <tr>\n",
       "      <td>DIVERS SUITE</td>\n",
       "      <td>0.76</td>\n",
       "      <td>0.67</td>\n",
       "      <td>0.71</td>\n",
       "      <td>280</td>\n",
       "    </tr>\n",
       "    <tr>\n",
       "      <td>FACTURE</td>\n",
       "      <td>0.89</td>\n",
       "      <td>0.67</td>\n",
       "      <td>0.76</td>\n",
       "      <td>58</td>\n",
       "    </tr>\n",
       "    <tr>\n",
       "      <td>FACTURE SUITE</td>\n",
       "      <td>0.80</td>\n",
       "      <td>0.71</td>\n",
       "      <td>0.75</td>\n",
       "      <td>86</td>\n",
       "    </tr>\n",
       "    <tr>\n",
       "      <td>INSTRUCT NOTAORE</td>\n",
       "      <td>0.77</td>\n",
       "      <td>0.81</td>\n",
       "      <td>0.79</td>\n",
       "      <td>189</td>\n",
       "    </tr>\n",
       "    <tr>\n",
       "      <td>INSTRUCT NOTAORE SUITE</td>\n",
       "      <td>0.59</td>\n",
       "      <td>0.46</td>\n",
       "      <td>0.51</td>\n",
       "      <td>149</td>\n",
       "    </tr>\n",
       "    <tr>\n",
       "      <td>LETTRE BENEFICIAIRE</td>\n",
       "      <td>0.99</td>\n",
       "      <td>1.00</td>\n",
       "      <td>0.99</td>\n",
       "      <td>79</td>\n",
       "    </tr>\n",
       "    <tr>\n",
       "      <td>LETTRE BENEFICIAIRE SUITE</td>\n",
       "      <td>0.95</td>\n",
       "      <td>0.93</td>\n",
       "      <td>0.94</td>\n",
       "      <td>61</td>\n",
       "    </tr>\n",
       "    <tr>\n",
       "      <td>LIVRET FAMILLE</td>\n",
       "      <td>0.71</td>\n",
       "      <td>0.57</td>\n",
       "      <td>0.63</td>\n",
       "      <td>51</td>\n",
       "    </tr>\n",
       "    <tr>\n",
       "      <td>LIVRET FAMILLE SUITE</td>\n",
       "      <td>0.82</td>\n",
       "      <td>0.64</td>\n",
       "      <td>0.72</td>\n",
       "      <td>154</td>\n",
       "    </tr>\n",
       "    <tr>\n",
       "      <td>MANDAT GESTION</td>\n",
       "      <td>1.00</td>\n",
       "      <td>1.00</td>\n",
       "      <td>1.00</td>\n",
       "      <td>100</td>\n",
       "    </tr>\n",
       "    <tr>\n",
       "      <td>MANDAT GESTION SUITE</td>\n",
       "      <td>0.00</td>\n",
       "      <td>0.00</td>\n",
       "      <td>0.00</td>\n",
       "      <td>2</td>\n",
       "    </tr>\n",
       "    <tr>\n",
       "      <td>MANDAT NOTAIRE</td>\n",
       "      <td>0.96</td>\n",
       "      <td>0.71</td>\n",
       "      <td>0.81</td>\n",
       "      <td>34</td>\n",
       "    </tr>\n",
       "    <tr>\n",
       "      <td>MANDAT NOTAIRE SUITE</td>\n",
       "      <td>0.86</td>\n",
       "      <td>0.33</td>\n",
       "      <td>0.48</td>\n",
       "      <td>18</td>\n",
       "    </tr>\n",
       "    <tr>\n",
       "      <td>MANIF AYANT DROIT</td>\n",
       "      <td>1.00</td>\n",
       "      <td>1.00</td>\n",
       "      <td>1.00</td>\n",
       "      <td>6</td>\n",
       "    </tr>\n",
       "    <tr>\n",
       "      <td>MANIF AYANT DROIT SUITE</td>\n",
       "      <td>0.00</td>\n",
       "      <td>0.00</td>\n",
       "      <td>0.00</td>\n",
       "      <td>1</td>\n",
       "    </tr>\n",
       "    <tr>\n",
       "      <td>ORD JUGE TUTELLE</td>\n",
       "      <td>1.00</td>\n",
       "      <td>0.50</td>\n",
       "      <td>0.67</td>\n",
       "      <td>4</td>\n",
       "    </tr>\n",
       "    <tr>\n",
       "      <td>ORD JUGE TUTELLE SUITE</td>\n",
       "      <td>0.86</td>\n",
       "      <td>0.86</td>\n",
       "      <td>0.86</td>\n",
       "      <td>7</td>\n",
       "    </tr>\n",
       "    <tr>\n",
       "      <td>PASSEPORT</td>\n",
       "      <td>1.00</td>\n",
       "      <td>0.47</td>\n",
       "      <td>0.64</td>\n",
       "      <td>17</td>\n",
       "    </tr>\n",
       "    <tr>\n",
       "      <td>PASSEPORT SUITE</td>\n",
       "      <td>0.00</td>\n",
       "      <td>0.00</td>\n",
       "      <td>0.00</td>\n",
       "      <td>2</td>\n",
       "    </tr>\n",
       "    <tr>\n",
       "      <td>RENONCIATION</td>\n",
       "      <td>0.00</td>\n",
       "      <td>0.00</td>\n",
       "      <td>0.00</td>\n",
       "      <td>3</td>\n",
       "    </tr>\n",
       "    <tr>\n",
       "      <td>RENONCIATION SUITE</td>\n",
       "      <td>0.00</td>\n",
       "      <td>0.00</td>\n",
       "      <td>0.00</td>\n",
       "      <td>1</td>\n",
       "    </tr>\n",
       "    <tr>\n",
       "      <td>RIB</td>\n",
       "      <td>0.59</td>\n",
       "      <td>0.54</td>\n",
       "      <td>0.57</td>\n",
       "      <td>83</td>\n",
       "    </tr>\n",
       "    <tr>\n",
       "      <td>RIB SUITE</td>\n",
       "      <td>0.00</td>\n",
       "      <td>0.00</td>\n",
       "      <td>0.00</td>\n",
       "      <td>19</td>\n",
       "    </tr>\n",
       "    <tr>\n",
       "      <td>STATUT ASSOC</td>\n",
       "      <td>0.00</td>\n",
       "      <td>0.00</td>\n",
       "      <td>0.00</td>\n",
       "      <td>1</td>\n",
       "    </tr>\n",
       "    <tr>\n",
       "      <td>STATUT ASSOC SUITE</td>\n",
       "      <td>1.00</td>\n",
       "      <td>0.40</td>\n",
       "      <td>0.57</td>\n",
       "      <td>10</td>\n",
       "    </tr>\n",
       "    <tr>\n",
       "      <td>accuracy</td>\n",
       "      <td>0.81</td>\n",
       "      <td>0.81</td>\n",
       "      <td>0.81</td>\n",
       "      <td>0</td>\n",
       "    </tr>\n",
       "    <tr>\n",
       "      <td>macro avg</td>\n",
       "      <td>0.72</td>\n",
       "      <td>0.62</td>\n",
       "      <td>0.65</td>\n",
       "      <td>4201</td>\n",
       "    </tr>\n",
       "    <tr>\n",
       "      <td>weighted avg</td>\n",
       "      <td>0.82</td>\n",
       "      <td>0.81</td>\n",
       "      <td>0.81</td>\n",
       "      <td>4201</td>\n",
       "    </tr>\n",
       "  </tbody>\n",
       "</table>\n",
       "</div>"
      ],
      "text/plain": [
       "                           precision  recall  f1-score  support\n",
       "ACTE DECES                      0.99    1.00      0.99      202\n",
       "ACTE DECES SUITE                1.00    0.60      0.75        5\n",
       "ACTE NAISSANCE                  0.88    0.35      0.50       20\n",
       "ACTE NAISSANCE SUITE            0.00    0.00      0.00        2\n",
       "ACTE NOTORIETE                  0.96    0.89      0.92       53\n",
       "ACTE NOTORIETE SUITE            0.86    0.91      0.89      386\n",
       "AR HERITIERS                    0.95    1.00      0.98       21\n",
       "AR HERITIERS SUITE              0.95    0.90      0.93       21\n",
       "ATTES HONNEUR                   1.00    1.00      1.00       68\n",
       "ATTES HONNEUR SUITE             1.00    1.00      1.00       24\n",
       "AUTO PAIEMENT                   0.80    1.00      0.89        4\n",
       "AVIS                            1.00    0.75      0.86        4\n",
       "AVIS SUITE                      1.00    0.86      0.92        7\n",
       "CERFA 2705                      1.00    0.90      0.95      115\n",
       "CERFA 2705 SUITE                0.88    1.00      0.94      151\n",
       "CERFA 2738                      1.00    1.00      1.00       67\n",
       "CERFA 2738 SUITE                1.00    0.82      0.90       17\n",
       "CERTIF HEREDITE                 0.86    0.60      0.71       10\n",
       "CERTIF HEREDITE SUITE           1.00    0.50      0.67       14\n",
       "CNI                             0.40    0.81      0.54      131\n",
       "CNI SUITE                       0.43    0.06      0.11       47\n",
       "DELIBERA SOCIETE                0.00    0.00      0.00        1\n",
       "DELIBERA SOCIETE SUITE          0.00    0.00      0.00        3\n",
       "DEM PRESTA                      1.00    1.00      1.00      208\n",
       "DEM PRESTA SUITE                0.00    0.00      0.00        5\n",
       "DEMANDE RENTE                   1.00    1.00      1.00        2\n",
       "DEMANDE RENTE SUITE             1.00    0.50      0.67        2\n",
       "DESIGN NOTAIRE                  0.94    0.89      0.92      151\n",
       "DESIGN NOTAIRE SUITE            0.92    0.86      0.89      177\n",
       "DEVOLUTION SUCC                 0.92    0.95      0.93       91\n",
       "DEVOLUTION SUCC SUITE           0.80    0.80      0.80      140\n",
       "DIVERS                          0.69    0.83      0.75      637\n",
       "DIVERS SUITE                    0.76    0.67      0.71      280\n",
       "FACTURE                         0.89    0.67      0.76       58\n",
       "FACTURE SUITE                   0.80    0.71      0.75       86\n",
       "INSTRUCT NOTAORE                0.77    0.81      0.79      189\n",
       "INSTRUCT NOTAORE SUITE          0.59    0.46      0.51      149\n",
       "LETTRE BENEFICIAIRE             0.99    1.00      0.99       79\n",
       "LETTRE BENEFICIAIRE SUITE       0.95    0.93      0.94       61\n",
       "LIVRET FAMILLE                  0.71    0.57      0.63       51\n",
       "LIVRET FAMILLE SUITE            0.82    0.64      0.72      154\n",
       "MANDAT GESTION                  1.00    1.00      1.00      100\n",
       "MANDAT GESTION SUITE            0.00    0.00      0.00        2\n",
       "MANDAT NOTAIRE                  0.96    0.71      0.81       34\n",
       "MANDAT NOTAIRE SUITE            0.86    0.33      0.48       18\n",
       "MANIF AYANT DROIT               1.00    1.00      1.00        6\n",
       "MANIF AYANT DROIT SUITE         0.00    0.00      0.00        1\n",
       "ORD JUGE TUTELLE                1.00    0.50      0.67        4\n",
       "ORD JUGE TUTELLE SUITE          0.86    0.86      0.86        7\n",
       "PASSEPORT                       1.00    0.47      0.64       17\n",
       "PASSEPORT SUITE                 0.00    0.00      0.00        2\n",
       "RENONCIATION                    0.00    0.00      0.00        3\n",
       "RENONCIATION SUITE              0.00    0.00      0.00        1\n",
       "RIB                             0.59    0.54      0.57       83\n",
       "RIB SUITE                       0.00    0.00      0.00       19\n",
       "STATUT ASSOC                    0.00    0.00      0.00        1\n",
       "STATUT ASSOC SUITE              1.00    0.40      0.57       10\n",
       "accuracy                        0.81    0.81      0.81        0\n",
       "macro avg                       0.72    0.62      0.65     4201\n",
       "weighted avg                    0.82    0.81      0.81     4201"
      ]
     },
     "execution_count": 22,
     "metadata": {},
     "output_type": "execute_result"
    }
   ],
   "source": [
    "# reporting sur le test\n",
    "report_svc_test = classification_report(df_test.target, svc.predict(X_tfidf_word_test), output_dict=True)\n",
    "df_report_svc_test = pd.DataFrame(report_svc_test).transpose()\n",
    "report_mise_en_forme(df_report_svc_test)"
   ]
  },
  {
   "cell_type": "code",
   "execution_count": null,
   "metadata": {},
   "outputs": [],
   "source": [
    "# reporting sur le train afin de savoir s'il y a overfitting\n",
    "report_svc_train = classification_report(df_train.target, svc.predict(X_tfidf_word_train), output_dict=True)\n",
    "df_report_svc_train = pd.DataFrame(report_svc_train).transpose()\n",
    "report_mise_en_forme(df_report_svc_train)"
   ]
  },
  {
   "cell_type": "markdown",
   "metadata": {},
   "source": [
    "# 6. Amélioration\n",
    "- merger certaines catégories principales avec leur suite"
   ]
  },
  {
   "cell_type": "code",
   "execution_count": null,
   "metadata": {},
   "outputs": [],
   "source": [
    "# Création du dico merge\n",
    "\n",
    "dico_merge = {\n",
    "    \"ACTE DECES MERGE\": ['ACTE DECES', 'ACTE DECES SUITE'],\n",
    "    \"ACTE NAISSANCE MERGE\": ['ACTE NAISSANCE', 'ACTE NAISSANCE SUITE'],\n",
    "    \"ACTE NOTORIETE MERGE\": ['ACTE NOTORIETE', 'ACTE NOTORIETE SUITE'],\n",
    "    \"AR HERITIERS MERGE\": ['AR HERITIERS', 'AR HERITIERS SUITE'],\n",
    "    \"ATTES HONNEUR MERGE\": ['ATTES HONNEUR', 'ATTES HONNEUR SUITE'],\n",
    "    \"AUTO PAIEMENT MERGE\": ['AUTO PAIEMENT', 'AUTO PAIEMENT SUITE'],\n",
    "    \"AVIS MERGE\": ['AVIS', 'AVIS SUITE'],\n",
    "    \"CERFA 2705 MERGE\": ['CERFA 2705', 'CERFA 2705 SUITE'],\n",
    "    \"CERFA 2738 MERGE\": ['CERFA 2738', 'CERFA 2738 SUITE'],\n",
    "    \"CERTIF HEREDITE MERGE\": ['CERTIF HEREDITE', 'CERTIF HEREDITE SUITE'],\n",
    "    \"CNI MERGE\": ['CNI', 'CNI SUITE'],\n",
    "    \"DELIBERA SOCIETE MERGE\": ['DELIBERA SOCIETE', 'DELIBERA SOCIETE SUITE'],\n",
    "    \"DEM PRESTA MERGE\": ['DEM PRESTA', 'DEM PRESTA SUITE'],\n",
    "    \"DEMANDE RENTE MERGE\": ['DEMANDE RENTE', 'DEMANDE RENTE SUITE'],\n",
    "    \"DESIGN NOTAIRE MERGE\": ['DESIGN NOTAIRE', 'DESIGN NOTAIRE SUITE'],\n",
    "    \"DEVOLUTION SUCC MERGE\": ['DEVOLUTION SUCC', 'DEVOLUTION SUCC SUITE'],\n",
    "    \"DIVERS MERGE\": ['DIVERS', 'DIVERS SUITE'],\n",
    "    \"FACTURE MERGE\": ['FACTURE', 'FACTURE SUITE'],\n",
    "    \"INSTRUCT NOTAORE MERGE\": ['INSTRUCT NOTAORE', 'INSTRUCT NOTAORE SUITE'],\n",
    "    \"LETTRE BENEFICIAIRE MERGE\": ['LETTRE BENEFICIAIRE', 'LETTRE BENEFICIAIRE SUITE'],\n",
    "    \"LIVRET FAMILLE MERGE\": ['LIVRET FAMILLE', 'LIVRET FAMILLE SUITE'],\n",
    "    \"MANDAT GESTION MERGE\": ['MANDAT GESTION', 'MANDAT GESTION SUITE'],\n",
    "    \"MANDAT NOTAIRE MERGE\": ['MANDAT NOTAIRE', 'MANDAT NOTAIRE SUITE'],\n",
    "    \"MANIF AYANT DROIT MERGE\": ['MANIF AYANT DROIT', 'MANIF AYANT DROIT SUITE'],\n",
    "    \"ORD JUGE TUTELLE MERGE\": ['ORD JUGE TUTELLE', 'ORD JUGE TUTELLE SUITE'], \n",
    "    \"PASSEPORT MERGE\": ['PASSEPORT', 'PASSEPORT SUITE'],\n",
    "    \"RENONCIATION MERGE\": ['RENONCIATION', 'RENONCIATION SUITE'],\n",
    "    \"RIB MERGE\": ['RIB', 'RIB SUITE'],\n",
    "    \"STATUT ASSOC MERGE\": ['STATUT ASSOC', 'STATUT ASSOC SUITE']\n",
    "}"
   ]
  },
  {
   "cell_type": "code",
   "execution_count": null,
   "metadata": {},
   "outputs": [],
   "source": [
    "def create_category_merge(colonne_target):\n",
    "    liste_category_merge = []\n",
    "    for target_ini in colonne_target:\n",
    "        for key, value in dico_merge.items():\n",
    "            if target_ini in value:\n",
    "                liste_category_merge.append(key)\n",
    "    return liste_category_merge"
   ]
  },
  {
   "cell_type": "code",
   "execution_count": null,
   "metadata": {},
   "outputs": [],
   "source": [
    "df_train[\"target_merge\"] = create_category_merge(df_train.target)\n",
    "df_test[\"target_merge\"] = create_category_merge(df_test.target)"
   ]
  },
  {
   "cell_type": "markdown",
   "metadata": {},
   "source": [
    "### Ensuite recommencer étape 5 et 6"
   ]
  },
  {
   "cell_type": "code",
   "execution_count": null,
   "metadata": {},
   "outputs": [],
   "source": []
  },
  {
   "cell_type": "code",
   "execution_count": null,
   "metadata": {},
   "outputs": [],
   "source": []
  },
  {
   "cell_type": "markdown",
   "metadata": {},
   "source": [
    "### brouillon"
   ]
  },
  {
   "cell_type": "code",
   "execution_count": 71,
   "metadata": {
    "ExecuteTime": {
     "end_time": "2020-12-09T14:00:17.547864Z",
     "start_time": "2020-12-09T14:00:17.524874Z"
    }
   },
   "outputs": [
    {
     "data": {
      "text/plain": [
       "array(['ACTE DECES', 'ACTE DECES SUITE', 'ACTE NAISSANCE',\n",
       "       'ACTE NAISSANCE SUITE', 'ACTE NOTORIETE', 'ACTE NOTORIETE SUITE',\n",
       "       'AR HERITIERS', 'AR HERITIERS SUITE', 'ATTES HONNEUR',\n",
       "       'ATTES HONNEUR SUITE', 'AUTO PAIEMENT', 'AVIS', 'AVIS SUITE',\n",
       "       'CERFA 2705', 'CERFA 2705 SUITE', 'CERFA 2738', 'CERFA 2738 SUITE',\n",
       "       'CERTIF HEREDITE', 'CERTIF HEREDITE SUITE', 'CNI', 'CNI SUITE',\n",
       "       'DELIBERA SOCIETE SUITE', 'DEM PRESTA', 'DEM PRESTA SUITE',\n",
       "       'DEMANDE RENTE', 'DEMANDE RENTE SUITE', 'DESIGN NOTAIRE',\n",
       "       'DESIGN NOTAIRE SUITE', 'DEVOLUTION SUCC', 'DEVOLUTION SUCC SUITE',\n",
       "       'DIVERS', 'DIVERS SUITE', 'FACTURE', 'FACTURE SUITE',\n",
       "       'INSTRUCT NOTAORE', 'INSTRUCT NOTAORE SUITE',\n",
       "       'LETTRE BENEFICIAIRE', 'LETTRE BENEFICIAIRE SUITE',\n",
       "       'LIVRET FAMILLE', 'LIVRET FAMILLE SUITE', 'MANDAT GESTION',\n",
       "       'MANDAT GESTION SUITE', 'MANDAT NOTAIRE', 'MANDAT NOTAIRE SUITE',\n",
       "       'MANIF AYANT DROIT', 'MANIF AYANT DROIT SUITE', 'ORD JUGE TUTELLE',\n",
       "       'ORD JUGE TUTELLE SUITE', 'PASSEPORT', 'PASSEPORT SUITE',\n",
       "       'RENONCIATION', 'RENONCIATION SUITE', 'RIB', 'RIB SUITE',\n",
       "       'STATUT ASSOC', 'STATUT ASSOC SUITE'], dtype=object)"
      ]
     },
     "execution_count": 71,
     "metadata": {},
     "output_type": "execute_result"
    }
   ],
   "source": [
    "svc.classes_"
   ]
  },
  {
   "cell_type": "code",
   "execution_count": 114,
   "metadata": {
    "ExecuteTime": {
     "end_time": "2020-12-09T14:46:48.977479Z",
     "start_time": "2020-12-09T14:46:48.972482Z"
    },
    "scrolled": true
   },
   "outputs": [],
   "source": [
    "targets = list(svc.classes_)"
   ]
  },
  {
   "cell_type": "code",
   "execution_count": 146,
   "metadata": {
    "ExecuteTime": {
     "end_time": "2020-12-09T15:03:25.778430Z",
     "start_time": "2020-12-09T15:03:25.705495Z"
    },
    "scrolled": false
   },
   "outputs": [
    {
     "name": "stdout",
     "output_type": "stream",
     "text": [
      "{'ACTE DECES': 0.02, 'ACTE DECES SUITE': 0.02, 'ACTE NAISSANCE': 0.01, 'ACTE NAISSANCE SUITE': 0.01, 'ACTE NOTORIETE': 0.02, 'ACTE NOTORIETE SUITE': 0.04, 'AR HERITIERS': 0.01, 'AR HERITIERS SUITE': 0.02, 'ATTES HONNEUR': 0.01, 'ATTES HONNEUR SUITE': 0.02, 'AUTO PAIEMENT': 0.01, 'AVIS': 0.01, 'AVIS SUITE': 0.01, 'CERFA 2705': 0.01, 'CERFA 2705 SUITE': 0.04, 'CERFA 2738': 0.01, 'CERFA 2738 SUITE': 0.01, 'CERTIF HEREDITE': 0.01, 'CERTIF HEREDITE SUITE': 0.01, 'CNI': 0.02, 'CNI SUITE': 0.02, 'DELIBERA SOCIETE SUITE': 0.01, 'DEM PRESTA': 98.76, 'DEM PRESTA SUITE': 0.01, 'DEMANDE RENTE': 0.0, 'DEMANDE RENTE SUITE': 0.01, 'DESIGN NOTAIRE': 0.02, 'DESIGN NOTAIRE SUITE': 0.04, 'DEVOLUTION SUCC': 0.01, 'DEVOLUTION SUCC SUITE': 0.04, 'DIVERS': 0.12, 'DIVERS SUITE': 0.09, 'FACTURE': 0.03, 'FACTURE SUITE': 0.04, 'INSTRUCT NOTAORE': 0.05, 'INSTRUCT NOTAORE SUITE': 0.1, 'LETTRE BENEFICIAIRE': 0.02, 'LETTRE BENEFICIAIRE SUITE': 0.05, 'LIVRET FAMILLE': 0.02, 'LIVRET FAMILLE SUITE': 0.02, 'MANDAT GESTION': 0.0, 'MANDAT GESTION SUITE': 0.02, 'MANDAT NOTAIRE': 0.03, 'MANDAT NOTAIRE SUITE': 0.03, 'MANIF AYANT DROIT': 0.01, 'MANIF AYANT DROIT SUITE': 0.01, 'ORD JUGE TUTELLE': 0.01, 'ORD JUGE TUTELLE SUITE': 0.01, 'PASSEPORT': 0.01, 'PASSEPORT SUITE': 0.02, 'RENONCIATION': 0.01, 'RENONCIATION SUITE': 0.01, 'RIB': 0.03, 'RIB SUITE': 0.02, 'STATUT ASSOC': 0.0, 'STATUT ASSOC SUITE': 0.01}\n"
     ]
    }
   ],
   "source": [
    "file = \"901_00822-20200709115505002-SUCC-0102_page_0.txt\"\n",
    "tokenizer = RegexpTokenizer(r'\\w+')\n",
    "\n",
    "\n",
    "with open (file) as f:\n",
    "    contenu = f.read()\n",
    "    contenu = contenu.rstrip().encode('utf-8')\n",
    "    contenu = contenu.decode('utf-8')\n",
    "    contenu_preprocessed = process(contenu)\n",
    "    contenu_tfidf = tfidf_word.transform([contenu_preprocessed])\n",
    "    predictProba = svc.predict_proba(contenu_tfidf)\n",
    "#     print(predictProba[0][1])\n",
    "#     print(svc.classes_[1])\n",
    "    preprobalist = list(predictProba[0])\n",
    "    dico_proba = {targets[i]: round(preprobalist[i]*100,2) for i in range(len(preprobalist))} \n",
    "print(dico_proba)\n",
    "    \n",
    "#     index = np.argsort(prediction, axis=1)[:,-3:]\n",
    "#     index_for_proba = index[0]\n",
    "#     print(svc.classes_[index][0])\n",
    "#     print(np.around(prediction[0][index_for_proba]*100, decimals=2))\n"
   ]
  },
  {
   "cell_type": "code",
   "execution_count": 149,
   "metadata": {
    "ExecuteTime": {
     "end_time": "2020-12-09T15:04:28.469244Z",
     "start_time": "2020-12-09T15:04:28.449255Z"
    }
   },
   "outputs": [],
   "source": [
    "dico_proba_ordered = {k: v for k, v in sorted(dico_proba.items(), key=lambda item: item[1], reverse=True)}"
   ]
  },
  {
   "cell_type": "code",
   "execution_count": 150,
   "metadata": {
    "ExecuteTime": {
     "end_time": "2020-12-09T15:04:30.835635Z",
     "start_time": "2020-12-09T15:04:30.825660Z"
    }
   },
   "outputs": [],
   "source": [
    "from itertools import islice\n",
    "top3 = list(islice(dico_proba_ordered.items(), 3))"
   ]
  },
  {
   "cell_type": "code",
   "execution_count": 157,
   "metadata": {
    "ExecuteTime": {
     "end_time": "2020-12-09T15:05:29.888088Z",
     "start_time": "2020-12-09T15:05:29.873085Z"
    }
   },
   "outputs": [
    {
     "data": {
      "text/plain": [
       "98.76"
      ]
     },
     "execution_count": 157,
     "metadata": {},
     "output_type": "execute_result"
    }
   ],
   "source": [
    "top3[0][1]"
   ]
  },
  {
   "cell_type": "code",
   "execution_count": 136,
   "metadata": {
    "ExecuteTime": {
     "end_time": "2020-12-09T14:59:04.122274Z",
     "start_time": "2020-12-09T14:59:04.106283Z"
    }
   },
   "outputs": [
    {
     "data": {
      "text/plain": [
       "[('DEM PRESTA', 0.9875500503378545),\n",
       " ('DIVERS', 0.0012453842194217705),\n",
       " ('INSTRUCT NOTAORE SUITE', 0.0010170327259706102)]"
      ]
     },
     "execution_count": 136,
     "metadata": {},
     "output_type": "execute_result"
    }
   ],
   "source": []
  }
 ],
 "metadata": {
  "kernelspec": {
   "display_name": "Python 3",
   "language": "python",
   "name": "python3"
  },
  "language_info": {
   "codemirror_mode": {
    "name": "ipython",
    "version": 3
   },
   "file_extension": ".py",
   "mimetype": "text/x-python",
   "name": "python",
   "nbconvert_exporter": "python",
   "pygments_lexer": "ipython3",
   "version": "3.7.4"
  }
 },
 "nbformat": 4,
 "nbformat_minor": 4
}
